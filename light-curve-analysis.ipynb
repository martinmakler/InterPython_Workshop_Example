{
 "cells": [
  {
   "cell_type": "markdown",
   "id": "d9b76051-958e-4103-9b98-a05778d340d1",
   "metadata": {},
   "source": [
    "Software for managing and analysing light curves of variable stars, coming from different surveys."
   ]
  },
  {
   "cell_type": "markdown",
   "id": "a71e8780-022a-4bd3-901c-5ccdf75bc929",
   "metadata": {},
   "source": [
    "#### Import libraries"
   ]
  },
  {
   "cell_type": "code",
   "execution_count": null,
   "id": "30e4e043-f1a3-4773-aa2f-24f5f049dfe0",
   "metadata": {},
   "outputs": [],
   "source": [
    "import os\n",
    "import pandas as pd"
   ]
  },
  {
   "cell_type": "markdown",
   "id": "01f08b64-6d72-402b-b586-8bd0b148bd6d",
   "metadata": {},
   "source": [
    "#### Read the data"
   ]
  },
  {
   "cell_type": "code",
   "execution_count": null,
   "id": "73cfb12f-d7e8-4091-88b4-6730fc20bf46",
   "metadata": {},
   "outputs": [],
   "source": [
    "os.listdir(\"data\")"
   ]
  },
  {
   "cell_type": "code",
   "execution_count": null,
   "id": "9b5eb5c7-a616-4bc9-a157-da6c588422a0",
   "metadata": {},
   "outputs": [],
   "source": [
    "LcDatasets = {}\n",
    "LcDatasets[\"lsst\"] = pd.read_pickle(os.path.join(\"data\", \"lsst_RRLyr.pkl\"))\n",
    "LcDatasets[\"kepler\"] = pd.read_csv(os.path.join(\"data\", \"kepler_RRLyr.csv\"))"
   ]
  },
  {
   "cell_type": "code",
   "execution_count": null,
   "id": "a00a7ccb-3c96-4696-94c5-e93862aeb12e",
   "metadata": {},
   "outputs": [],
   "source": [
    "# Inspect datasets\n",
    "LcDatasets[\"lsst\"].head()"
   ]
  },
  {
   "cell_type": "code",
   "execution_count": null,
   "id": "c92d2ea9-afef-45eb-b995-157acced78a1",
   "metadata": {},
   "outputs": [],
   "source": [
    "LcDatasets[\"kepler\"].head()"
   ]
  },
  {
   "cell_type": "code",
   "execution_count": null,
   "id": "91f82988-5db9-4592-9165-8f118abc25fc",
   "metadata": {},
   "outputs": [],
   "source": [
    "LcDatasets[\"kepler\"].columns"
   ]
  },
  {
   "cell_type": "code",
   "execution_count": null,
   "id": "5b89b156-b87f-4608-b5fd-068941175e0a",
   "metadata": {},
   "outputs": [],
   "source": [
    "plot_filter_labels = [\"u\", \"g\", \"r\", \"i\", \"z\", \"y\"]\n",
    "\n",
    "plot_filter_colors = {\"u\": \"#56b4e9\", \"g\": \"#008060\", \"r\": \"#ff4000\",  \"i\":\"#850000\",\"z\": \"#6600cc\",\"y\": \"#000000\"}\n",
    "plot_filter_symbols = {\"u\":\"o\",\"g\":\"^\",\"r\":\"v\",\"i\":\"s\",\"z\":\"*\",\"y\": \"p\"}"
   ]
  },
  {
   "cell_type": "code",
   "execution_count": null,
   "id": "d858d326-84ee-4d9e-bc26-f3ebc345ca50",
   "metadata": {},
   "outputs": [],
   "source": [
    "LC = LcDatasets[\"lsst\"][\"objectId\"].unique()[7]\n",
    "LC = LcDatasets[\"lsst\"][LcDatasets[\"lsst\"][\"objectId\"] == LC]"
   ]
  },
  {
   "cell_type": "code",
   "execution_count": null,
   "id": "7420df38-3a80-47fd-bf59-5463cc4ce962",
   "metadata": {},
   "outputs": [],
   "source": [
    "bands = {}\n",
    "for b in plot_filter_labels:\n",
    "    bands[b] = LC[\"band\"] == b"
   ]
  },
  {
   "cell_type": "code",
   "execution_count": null,
   "id": "e051d800-756c-419f-a5db-c7fc916e1e7c",
   "metadata": {},
   "outputs": [],
   "source": [
    "len(LC)"
   ]
  },
  {
   "cell_type": "code",
   "execution_count": null,
   "id": "9c95769f-4b1a-428b-b8da-6b66e90a6eec",
   "metadata": {},
   "outputs": [],
   "source": [
    "import lcanalyzer.views as views"
   ]
  },
  {
   "cell_type": "code",
   "execution_count": null,
   "id": "2da8ce06-5747-4a12-8542-c384d4097891",
   "metadata": {},
   "outputs": [],
   "source": [
    "b = 'z'"
   ]
  },
  {
   "cell_type": "code",
   "execution_count": null,
   "id": "231802e9-7922-45c1-afa0-101eb3e84ba6",
   "metadata": {},
   "outputs": [],
   "source": []
  },
  {
   "cell_type": "code",
   "execution_count": null,
   "id": "a689baaa-0481-46c2-b58a-73f694a5b48c",
   "metadata": {},
   "outputs": [],
   "source": []
  },
  {
   "cell_type": "markdown",
   "id": "31400053-531c-425e-8c18-931d3f054c19",
   "metadata": {},
   "source": [
    "**Title** "
   ]
  },
  {
   "cell_type": "code",
   "execution_count": null,
   "id": "9bf2d7a0-6f0a-40f1-98cb-db14e22d9848",
   "metadata": {},
   "outputs": [],
   "source": [
    "views.plotUnfolded(LC[bands[b]],time_col=\"expMidptMJD\",mag_col=\"psfMag\",color=plot_filter_colors[b],marker=plot_filter_symbols[b])"
   ]
  },
  {
   "cell_type": "code",
   "execution_count": null,
   "id": "ca92a999-9cee-4ab4-8ab5-ecaa2881d0ba",
   "metadata": {},
   "outputs": [],
   "source": []
  },
  {
   "cell_type": "code",
   "execution_count": null,
   "id": "f720104b-817a-4044-9e13-7adb9e8dd99a",
   "metadata": {},
   "outputs": [],
   "source": [
    "%who"
   ]
  },
  {
   "cell_type": "code",
   "execution_count": null,
   "id": "b3cae54e-7d8b-401d-bdd5-698936cbf19f",
   "metadata": {},
   "outputs": [],
   "source": [
    "%quickref"
   ]
  },
  {
   "cell_type": "code",
   "execution_count": null,
   "id": "e7976e84-00c4-448f-ac51-f2f3a8b00320",
   "metadata": {},
   "outputs": [],
   "source": [
    "%ls"
   ]
  },
  {
   "cell_type": "code",
   "execution_count": null,
   "id": "f2e8c403-a231-4816-b6af-670970ba0819",
   "metadata": {},
   "outputs": [],
   "source": []
  }
 ],
 "metadata": {
  "kernelspec": {
   "display_name": "Python 3 (ipykernel)",
   "language": "python",
   "name": "python3"
  },
  "language_info": {
   "codemirror_mode": {
    "name": "ipython",
    "version": 3
   },
   "file_extension": ".py",
   "mimetype": "text/x-python",
   "name": "python",
   "nbconvert_exporter": "python",
   "pygments_lexer": "ipython3",
   "version": "3.8.1"
  }
 },
 "nbformat": 4,
 "nbformat_minor": 5
}
